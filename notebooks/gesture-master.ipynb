{
 "cells": [
  {
   "cell_type": "code",
   "execution_count": null,
   "metadata": {},
   "outputs": [],
   "source": [
    "%%bash\n",
    "lein uberjar"
   ]
  },
  {
   "cell_type": "code",
   "execution_count": null,
   "metadata": {},
   "outputs": [],
   "source": [
    "%classpath add jar ../target/jvm/uberjar/hdsm-0.1.0-SNAPSHOT-standalone.jar\n",
    "(clojure.lang.Compiler/loadFile \"jupyter_helpers.clj\")\n",
    "(require '[clojure.java.io :as io]\n",
    "         '[clojure.string :as string]\n",
    "         '[clojure.pprint :refer [pprint print-table]]\n",
    "         '[jupyter-helpers :refer [run-and-save-experiments load-experiment site-summary-table experiment-timeline experiments-summary-table\n",
    "                                   display-html confusion-summary display-experiment-models get-best-experiment-label load-experiment-pair\n",
    "                                   get-timing-evaluation timing-table get-experiment-block-accuracies experiment-block-accuracies-table\n",
    "                                   save-data load-data]]\n",
    "         '[hdsm.classifier.distributed.sites :refer [make-site-structure p-site t-site]]\n",
    "         '[hdsm.classifier.moa-classifier :refer [adaptive-random-forest naive-bayes]]\n",
    "         '[hdsm.dataset.csv-dataset :refer [read-csv-dataset]]\n",
    "         '[hdsm.utils.stats :refer [mann-whitney-u-test wilcoxon-signed-rank-test]])"
   ]
  },
  {
   "cell_type": "markdown",
   "metadata": {},
   "source": [
    "## Experiment Setup"
   ]
  },
  {
   "cell_type": "code",
   "execution_count": null,
   "metadata": {},
   "outputs": [],
   "source": [
    ";; Dataset Configuration\n",
    "\n",
    "(defn dataset-fn []\n",
    "    (read-csv-dataset \"datasets/gesture_master/gesture-master.csv\"\n",
    "                      999999 ;; All records\n",
    "                      ;; Numeric features (all excluding class)\n",
    "                     [\"channel1\" \"channel2\" \"channel3\" \"channel4\" \"channel5\" \"channel6\" \"channel7\" \"channel8\"]))\n",
    "(def dataset-name \"gesture-master\")\n",
    "(def feature-count 8) ;; Not including class\n",
    "(def features-per-site 1)\n",
    "\n",
    "(def trouble-factors (map #(* features-per-site %) [1 1.5 2]))\n",
    "(def p-sites\n",
    " [(p-site :channel1 [0])\n",
    "     (p-site :channel2 [1])\n",
    "     (p-site :channel3 [2])\n",
    "     (p-site :channel4 [3])\n",
    "     (p-site :channel5 [4])\n",
    "     (p-site :channel6 [5])\n",
    " (p-site :channel7 [6])\n",
    " (p-site :channel8 [7])\n",
    "]\n",
    ")\n",
    "\n",
    "\n",
    "(def dataset (dataset-fn))\n",
    "(defn dataset-fn [] dataset)"
   ]
  },
  {
   "cell_type": "code",
   "execution_count": null,
   "metadata": {},
   "outputs": [],
   "source": [
    ";; Experiment Configuration\n",
    "\n",
    "(def base-classifier naive-bayes)\n",
    "(def trouble-classifier adaptive-random-forest)\n",
    "\n",
    "(def base-setup\n",
    "    {:dataset-description (keyword dataset-name)\n",
    "     :dataset-fn dataset-fn\n",
    "     :trouble-classifier trouble-classifier\n",
    "     :base-site-structure (apply make-site-structure feature-count p-sites)\n",
    "     ;; Disable monitor logging because this is a long-running experiment\n",
    "     ;; where detailed logging data is excessively large.\n",
    "     :disable-monitor-logging true\n",
    "     :batch1 10000})\n",
    "\n",
    "(def aggregation-rules {:max-conf {:type :max-conf}\n",
    "                       :simple-voting {:type :simple-voting}\n",
    "                       :stacked {:type :two-level-stacked\n",
    "                        :classifier-generator trouble-classifier}\n",
    "    })\n",
    "\n",
    "(def base-system-config\n",
    "    {:site-window-size 1000\n",
    "     :site-training-time 0\n",
    "     :shared-sources? false\n",
    "     :creation-window-size 1000\n",
    "     :creation-time-threshold 500\n",
    "     :removal-window-size 1000\n",
    "     :removal-time-threshold 500\n",
    "     :creation-agreement-threshold {:type :smoothed-hoeffding-bound\n",
    "                                    :r 1 :delta 0.001 :sharpness 5}\n",
    "     :removal-accuracy-threshold {:type :hoeffding-bound\n",
    "                                  :r 1 :delta 0.001}\n",
    "     :removal-usage-threshold 0.05})\n",
    "\n",
    "\n",
    "(def naive-experiments\n",
    "(for [[aggregation-rule-key aggregation-rule] aggregation-rules]\n",
    "    (assoc base-setup\n",
    "           :label (keyword (str dataset-name \"-naive\" aggregation-rule-key))\n",
    "            :p-site-aggregation-rule aggregation-rule\n",
    "            :system-config :naive)))\n",
    "\n",
    "(def park-experiments\n",
    "    (for [trouble-factor trouble-factors]\n",
    "        (assoc base-setup\n",
    "            :label (keyword (str dataset-name \"-park\"\n",
    "                                 \"-tf\" trouble-factor))\n",
    "           :base-site-structure (apply make-site-structure feature-count\n",
    "                                    (concat p-sites [(t-site :trouble (map :label p-sites) trouble-factor)]))\n",
    "            :disable-monitors true\n",
    "           :p-site-aggregation-rule {:type :max-conf}\n",
    "            :system-config (assoc base-system-config\n",
    "                              :trouble-factor trouble-factor\n",
    "                               :creation-agreement-threshold 999\n",
    "                              :removal-accuracy-threshold -999\n",
    "                             :removal-usage-threshold -999))))\n",
    "\n",
    "(def hdsm-experiments\n",
    "    (for [trouble-factor trouble-factors\n",
    "          [aggregation-rule-key aggregation-rule] aggregation-rules]\n",
    "        (assoc base-setup\n",
    "            :label (keyword (str dataset-name \"-hdsm\"\n",
    "                                 aggregation-rule-key\n",
    "                                 \"-tf\" trouble-factor))\n",
    "            :p-site-aggregation-rule aggregation-rule\n",
    "            :system-config (assoc base-system-config\n",
    "                               :trouble-factor trouble-factor))))\n",
    "\n",
    "(def experiments \n",
    "    (concat naive-experiments\n",
    "            park-experiments\n",
    "            hdsm-experiments\n",
    "    )\n",
    "\n",
    ")\n",
    "\n",
    "(def output-dir (str \"workspace/\" dataset-name))"
   ]
  },
  {
   "cell_type": "markdown",
   "metadata": {},
   "source": [
    "## Run Experiments"
   ]
  },
  {
   "cell_type": "code",
   "execution_count": null,
   "metadata": {},
   "outputs": [],
   "source": [
    "(import '[com.twosigma.beakerx.widget Output])\n",
    "(def experiment-output (Output.))\n",
    "experiment-output"
   ]
  },
  {
   "cell_type": "code",
   "execution_count": null,
   "metadata": {},
   "outputs": [],
   "source": [
    "(run-and-save-experiments output-dir base-classifier experiments\n",
    "                          :beaker-output experiment-output\n",
    "                          :thread-count 1)"
   ]
  },
  {
   "cell_type": "markdown",
   "metadata": {},
   "source": [
    "## Experiments Summary"
   ]
  },
  {
   "cell_type": "code",
   "execution_count": null,
   "metadata": {},
   "outputs": [],
   "source": [
    "(def experiments-summary\n",
    "    (load-experiment output-dir :summary))\n",
    "\n",
    "(experiments-summary-table experiments-summary)"
   ]
  },
  {
   "cell_type": "markdown",
   "metadata": {},
   "source": [
    "## Accuracy and Transmission Over Time "
   ]
  },
  {
   "cell_type": "code",
   "execution_count": null,
   "metadata": {},
   "outputs": [],
   "source": [
    "(def performance-measure [:skip-1000 :accuracy])\n",
    "(def partition-size 100)"
   ]
  },
  {
   "cell_type": "markdown",
   "metadata": {},
   "source": [
    "### Maximum Confidence Aggregation"
   ]
  },
  {
   "cell_type": "code",
   "execution_count": null,
   "metadata": {},
   "outputs": [],
   "source": [
    "(def max-conf-experiments (load-experiment-pair output-dir experiments-summary performance-measure :max-conf))"
   ]
  },
  {
   "cell_type": "code",
   "execution_count": null,
   "metadata": {},
   "outputs": [],
   "source": [
    "(let [experiments max-conf-experiments\n",
    "      result-count (count (:results (:hdsm experiments)))]\n",
    "    (.display (experiment-timeline (:hdsm experiments)\n",
    "                                   (dissoc experiments :hdsm)\n",
    "                                   :partition-size partition-size\n",
    "                                   :x-bounds [0 result-count]\n",
    "                                   :y-bounds-acc [0 1.2]\n",
    "                                   :y-bounds-data [0 1.5]\n",
    "                                   :event-rows 6)))"
   ]
  },
  {
   "cell_type": "markdown",
   "metadata": {},
   "source": [
    "### Simple Voting Aggregation"
   ]
  },
  {
   "cell_type": "code",
   "execution_count": null,
   "metadata": {},
   "outputs": [],
   "source": [
    "(def voting-experiments (load-experiment-pair output-dir experiments-summary performance-measure :simple-voting))"
   ]
  },
  {
   "cell_type": "code",
   "execution_count": null,
   "metadata": {},
   "outputs": [],
   "source": [
    "(let [experiments voting-experiments\n",
    "      result-count (count (:results (:hdsm experiments)))]\n",
    "    (.display (experiment-timeline (:hdsm experiments)\n",
    "                                   (dissoc experiments :hdsm)\n",
    "                                   :partition-size partition-size\n",
    "                                   :x-bounds [0 result-count]\n",
    "                                   :y-bounds-acc [0 1.5]\n",
    "                                   :y-bounds-data [0 1.5]\n",
    "                                   :event-rows 6)))"
   ]
  },
  {
   "cell_type": "markdown",
   "metadata": {},
   "source": [
    "### Stacked Aggregation"
   ]
  },
  {
   "cell_type": "code",
   "execution_count": null,
   "metadata": {},
   "outputs": [],
   "source": [
    "(def stacked-experiments (load-experiment-pair output-dir experiments-summary performance-measure :stacked))"
   ]
  },
  {
   "cell_type": "code",
   "execution_count": null,
   "metadata": {},
   "outputs": [],
   "source": [
    "(let [experiments stacked-experiments\n",
    "      result-count (count (:results (:hdsm experiments)))]\n",
    "    (.display (experiment-timeline (:hdsm experiments)\n",
    "                                   (dissoc experiments :hdsm)\n",
    "                                   :partition-size partition-size\n",
    "                                   :x-bounds [0 result-count]\n",
    "                                   :y-bounds-acc [0.5 1.5]\n",
    "                                   :y-bounds-data [0 0.7]\n",
    "                                   :event-rows 6)))"
   ]
  },
  {
   "cell_type": "markdown",
   "metadata": {},
   "source": [
    "## Timing Evaluation"
   ]
  },
  {
   "cell_type": "code",
   "execution_count": null,
   "metadata": {},
   "outputs": [],
   "source": [
    "(def timing-evaluation (get-timing-evaluation output-dir\n",
    "                                              (distinct (map :label experiments-summary)) ;; Drop repeated experiment labels\n",
    "                                              1000))"
   ]
  },
  {
   "cell_type": "code",
   "execution_count": null,
   "metadata": {},
   "outputs": [],
   "source": [
    "(save-data (str output-dir \"/:timing-summary.edn\") timing-evaluation)"
   ]
  },
  {
   "cell_type": "code",
   "execution_count": null,
   "metadata": {},
   "outputs": [],
   "source": [
    "(timing-table timing-evaluation)"
   ]
  },
  {
   "cell_type": "markdown",
   "metadata": {},
   "source": [
    "## Centralised Accuracy"
   ]
  },
  {
   "cell_type": "code",
   "execution_count": null,
   "metadata": {},
   "outputs": [],
   "source": [
    "(def central-output-dir (str output-dir \"/central\"))"
   ]
  },
  {
   "cell_type": "code",
   "execution_count": null,
   "metadata": {},
   "outputs": [],
   "source": [
    "(def centralise-all-trouble-factor (* 2 feature-count))\n",
    "\n",
    "(def centralised-experiment\n",
    "    (assoc base-setup\n",
    "        :label (keyword (str dataset-name \"-centralised\"))\n",
    "        :base-site-structure\n",
    "        (apply make-site-structure feature-count\n",
    "            (concat p-sites [(t-site :central (map :label p-sites) centralise-all-trouble-factor)]))\n",
    "        :p-site-aggregation-rule {:type :max-conf}\n",
    "        :disable-monitors true\n",
    "        :system-config (assoc base-system-config\n",
    "                               :trouble-factor centralise-all-trouble-factor\n",
    "                               :creation-agreement-threshold 999\n",
    "                               :removal-accuracy-threshold -999\n",
    "                               :removal-usage-threshold -999)))\n",
    "\n",
    "(run-and-save-experiments central-output-dir trouble-classifier [centralised-experiment]\n",
    "                          :thread-count 1)"
   ]
  },
  {
   "cell_type": "code",
   "execution_count": null,
   "metadata": {},
   "outputs": [],
   "source": [
    "(def central-experiments-summary\n",
    "    (load-experiment central-output-dir :summary))\n",
    "    \n",
    "(experiments-summary-table central-experiments-summary)"
   ]
  }
 ],
 "metadata": {
  "kernelspec": {
   "display_name": "Clojure",
   "language": "clojure",
   "name": "clojure"
  },
  "language_info": {
   "codemirror_mode": "Clojure",
   "file_extension": ".clj",
   "mimetype": "text/x-clojure",
   "name": "Clojure",
   "nbconverter_exporter": "",
   "version": "1.9.0"
  },
  "toc": {
   "base_numbering": 1,
   "nav_menu": {},
   "number_sections": false,
   "sideBar": false,
   "skip_h1_title": false,
   "title_cell": "Table of Contents",
   "title_sidebar": "Contents",
   "toc_cell": false,
   "toc_position": {},
   "toc_section_display": false,
   "toc_window_display": false
  }
 },
 "nbformat": 4,
 "nbformat_minor": 2
}
