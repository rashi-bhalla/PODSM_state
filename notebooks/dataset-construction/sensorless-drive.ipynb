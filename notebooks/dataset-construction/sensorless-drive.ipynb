{
 "cells": [
  {
   "cell_type": "code",
   "execution_count": null,
   "metadata": {},
   "outputs": [],
   "source": [
    "import os\n",
    "import pandas as pd\n",
    "from random import Random"
   ]
  },
  {
   "cell_type": "code",
   "execution_count": null,
   "metadata": {},
   "outputs": [],
   "source": [
    "dataset_dir = '../datasets/sensorless-drive'\n",
    "\n",
    "if not os.path.exists(dataset_dir):\n",
    "    os.makedirs(dataset_dir)"
   ]
  },
  {
   "cell_type": "code",
   "execution_count": null,
   "metadata": {},
   "outputs": [],
   "source": [
    "col_names = [ 'feature_{}'.format(i) for i in range(48) ] + [ 'class' ]\n",
    "# Read CSV as dtype=str so that numeric values are not changed through conversion to a float type \n",
    "df = pd.read_csv('https://archive.ics.uci.edu/ml/machine-learning-databases/00325/Sensorless_drive_diagnosis.txt', sep=' ', dtype=str, header=None, names=col_names)"
   ]
  },
  {
   "cell_type": "code",
   "execution_count": null,
   "metadata": {},
   "outputs": [],
   "source": [
    "def split_by_class(df):\n",
    "    # Split df into a separate df for each class value\n",
    "    split_dfs = [ x.reset_index(drop=True) for _, x in df.groupby('class') ]\n",
    "    # Sort dfs numerically by class value\n",
    "    return sorted(split_dfs, key=lambda df: int(df['class'].iloc[0]))\n",
    "\n",
    "class_dfs = split_by_class(df)"
   ]
  },
  {
   "cell_type": "code",
   "execution_count": null,
   "metadata": {},
   "outputs": [],
   "source": [
    "def random_interleaving_sequence(source_row_counts, seed=1):\n",
    "    rand = Random(seed)\n",
    "    source_count = len(source_row_counts)\n",
    "    total_rows = sum(source_row_counts)\n",
    "\n",
    "    remaining_row_counts = source_row_counts.copy()\n",
    "    available_sources = list(range(source_count))\n",
    "\n",
    "    result = []\n",
    "    for i in range(total_rows):\n",
    "        source = rand.choice(available_sources)\n",
    "        result.append(source)\n",
    "        remaining_row_counts[source] -= 1\n",
    "        if remaining_row_counts[source] <= 0:\n",
    "            available_sources.remove(source)\n",
    "    return result\n",
    "\n",
    "def random_interleave_dfs(dfs, seed=1):\n",
    "    dfs = [ df.copy() for df in dfs ]\n",
    "    row_counts = [ df.shape[0] for df in dfs ]\n",
    "    interleaving_df = pd.DataFrame(random_interleaving_sequence(row_counts, seed))\n",
    "    index_series = [ pd.Series(x.index.values) for _, x in interleaving_df.groupby(0) ]\n",
    "    for df, interleaved_index in zip(dfs, index_series):\n",
    "        df['interleaved_index'] = interleaved_index\n",
    "    return pd.concat(dfs).set_index('interleaved_index').sort_index()\n",
    "\n",
    "row_count = df.shape[0]\n",
    "interleaved_df = random_interleave_dfs(class_dfs, seed=row_count)"
   ]
  },
  {
   "cell_type": "code",
   "execution_count": null,
   "metadata": {},
   "outputs": [],
   "source": [
    "new_class_dfs = split_by_class(interleaved_df)\n",
    "\n",
    "# Verify dataframes split by class are in the same order when\n",
    "# extracted from both the original and interleaved dataframes.\n",
    "for old, new in zip(class_dfs, new_class_dfs):\n",
    "    if old.equals(new):\n",
    "        print('equal')\n",
    "    else:\n",
    "        print('not equal')"
   ]
  },
  {
   "cell_type": "code",
   "execution_count": null,
   "metadata": {},
   "outputs": [],
   "source": [
    "interleaved_df.to_csv(os.path.join(dataset_dir, 'sensorless-drive-interleaved.csv'), index=False)"
   ]
  },
  {
   "cell_type": "code",
   "execution_count": null,
   "metadata": {},
   "outputs": [],
   "source": []
  }
 ],
 "metadata": {
  "kernelspec": {
   "display_name": "Python 3",
   "language": "python",
   "name": "python3"
  },
  "language_info": {
   "codemirror_mode": {
    "name": "ipython",
    "version": 3
   },
   "file_extension": ".py",
   "mimetype": "text/x-python",
   "name": "python",
   "nbconvert_exporter": "python",
   "pygments_lexer": "ipython3",
   "version": "3.6.6"
  },
  "toc": {
   "base_numbering": 1,
   "nav_menu": {},
   "number_sections": false,
   "sideBar": false,
   "skip_h1_title": false,
   "title_cell": "Table of Contents",
   "title_sidebar": "Contents",
   "toc_cell": false,
   "toc_position": {},
   "toc_section_display": false,
   "toc_window_display": false
  }
 },
 "nbformat": 4,
 "nbformat_minor": 2
}
