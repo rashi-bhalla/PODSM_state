{
 "cells": [
  {
   "cell_type": "code",
   "execution_count": null,
   "metadata": {},
   "outputs": [],
   "source": [
    "import os\n",
    "import pandas as pd\n",
    "from pathlib import Path\n",
    "import re"
   ]
  },
  {
   "cell_type": "code",
   "execution_count": null,
   "metadata": {},
   "outputs": [],
   "source": [
    "dataset_dir = '../datasets/nasa'\n",
    "\n",
    "if not os.path.exists(dataset_dir):\n",
    "    os.makedirs(dataset_dir)"
   ]
  },
  {
   "cell_type": "code",
   "execution_count": null,
   "metadata": {},
   "outputs": [],
   "source": [
    "%%bash\n",
    "cd ../datasets/nasa\n",
    "rm -f FLTz_2.zip\n",
    "wget https://c3.nasa.gov/dashlink/static/media/dataset/FLTz_2.zip\n",
    "unzip FLTz_2.zip"
   ]
  },
  {
   "cell_type": "code",
   "execution_count": null,
   "metadata": {},
   "outputs": [],
   "source": [
    "fltz_dir = os.path.join(dataset_dir, 'FLTz')"
   ]
  },
  {
   "cell_type": "code",
   "execution_count": null,
   "metadata": {},
   "outputs": [],
   "source": [
    "with open(os.path.join(fltz_dir, 'ParameterList_Header.dat')) as header_file:\n",
    "    header = [ line.split('%')[0].strip() for line in header_file.readlines() ]"
   ]
  },
  {
   "cell_type": "code",
   "execution_count": null,
   "metadata": {},
   "outputs": [],
   "source": [
    "def last_numeric_part(value):\n",
    "    m = re.search('.*[^0-9]([0-9]+)[^0-9]*$', str(value))\n",
    "    if m:\n",
    "        return int(m.group(1))\n",
    "    return 0\n",
    "\n",
    "def get_data_files():\n",
    "    all_data_files = []\n",
    "    data_dirs = [ d for d in Path(fltz_dir).iterdir() if d.is_dir() ]\n",
    "    data_dirs = sorted(data_dirs, key=last_numeric_part)\n",
    "    for data_dir in data_dirs:\n",
    "        data_files = [ f for f in data_dir.iterdir() if f.is_file() ]\n",
    "        data_files = sorted(data_files, key=last_numeric_part)\n",
    "        all_data_files += data_files\n",
    "    return all_data_files\n",
    "\n",
    "def read_data(header, data_file):\n",
    "    # Read CSV as dtype=str so that numeric values are not changed through conversion to a float type \n",
    "    return pd.read_csv(str(data_file), header=None, names=header, index_col=False, dtype=str)\n",
    "\n",
    "dataframes = [ read_data(header, f) for f in get_data_files() ]\n",
    "df = pd.concat(dataframes).reset_index(drop=True)"
   ]
  },
  {
   "cell_type": "code",
   "execution_count": null,
   "metadata": {},
   "outputs": [],
   "source": [
    "# Compute rolling average of velocity on last 10 rows (including current row)\n",
    "df['rolling_velocity'] = df['g_sen.ub'].astype('float').rolling(10).mean()\n",
    "df['class'] = df['g_sen.ub'].astype('float').gt(df['rolling_velocity'].shift(1))\n",
    "# Remove rows without a class.\n",
    "df = df.dropna()"
   ]
  },
  {
   "cell_type": "code",
   "execution_count": null,
   "metadata": {},
   "outputs": [],
   "source": [
    "column_set = [\n",
    "    #'timeStamp', # Meta-data not relevant for prediction\n",
    "    #'g_exec.runtime', # Meta-data not relevant for prediction\n",
    "    #'g_dyn.lat', # Meta-data not relevant for prediction\n",
    "    #'g_dyn.lon', # Meta-data not relevant for prediction\n",
    "    #'g_dyn.alt', # Meta-data not relevant for prediction\n",
    "    'g_sen.phi', # Yaw\n",
    "    'g_sen.psi', # Roll\n",
    "    'g_sen.theta', # Pitch\n",
    "    'g_sen.ias', # Indicated airspeed\n",
    "    'g_sen.hdgmag', # Heading Magnetic\n",
    "    #'g_sen.ub', # Velocity - Excluded because it is used to generate the class\n",
    "    'g_sen.vb', # Lateral velocity\n",
    "    'g_sen.wb', # Vertical velocity\n",
    "    'g_sen.pb', # Roll rate\n",
    "    'g_sen.qb', # Pitch rate\n",
    "    'g_sen.rb', # Yaw rate\n",
    "    #'g_aero.ubd', # Forward Body-axis Acceleration - Excluded because it is related to the velocity that generates the class\n",
    "    'g_aero.vbd', # Lateral Body-axis Acceleration\n",
    "    'g_aero.wbd', # Vertical Body-axis Accelration\n",
    "    'g_aero.pbd', # Body-axis Roll Acceleration\n",
    "    'g_aero.qbd', # Body-axis Pitch Acceleration\n",
    "    'g_aero.rbd', # Body-axis Yaw Acceleration\n",
    "    'g_act.posn[1]', # Left Aelieron\n",
    "    #'g_eos.fail_flag[1]', # Has a constant value\n",
    "    'g_act.posn[2]', # Right Aelieron\n",
    "    #'g_eos.fail_flag[2]', # Has a constant value\n",
    "    'g_act.posn[7]', # Left Elevators\n",
    "    #'g_eos.fail_flag[7]', # Has a constant value\n",
    "    'g_act.posn[8]', # Right Elevators\n",
    "    #'g_eos.fail_flag[8]', # Has a constant value\n",
    "    #'g_act.posn[9]', # Flaps - Has a constant value\n",
    "    #'g_eos.fail_flag[9]', # Has a constant value\n",
    "    'g_act.posn[13]', # Rudder\n",
    "    #'g_eos.fail_flag[13]', # Has a constant value\n",
    "    #'g_eng.thrust[0]', # Engine0 Thrust - Excluded because engine thrust is highly predictive on its own\n",
    "    #'g_eng.thrust[1]', # Engine1 Thrust - Excluded because engine thrust is highly predictive on its own\n",
    "    'class',\n",
    "]\n",
    "\n",
    "df = df[column_set]\n",
    "row_count = df.shape[0]\n",
    "shuffled_df = df.sample(frac=1, replace=False, random_state=row_count)"
   ]
  },
  {
   "cell_type": "code",
   "execution_count": null,
   "metadata": {},
   "outputs": [],
   "source": [
    "df.to_csv(os.path.join(dataset_dir, 'nasa-concat.csv'), index=False)\n",
    "shuffled_df.to_csv(os.path.join(dataset_dir, 'nasa-shuffled.csv'), index=False)"
   ]
  },
  {
   "cell_type": "code",
   "execution_count": null,
   "metadata": {},
   "outputs": [],
   "source": []
  }
 ],
 "metadata": {
  "kernelspec": {
   "display_name": "Python 3",
   "language": "python",
   "name": "python3"
  },
  "language_info": {
   "codemirror_mode": {
    "name": "ipython",
    "version": 3
   },
   "file_extension": ".py",
   "mimetype": "text/x-python",
   "name": "python",
   "nbconvert_exporter": "python",
   "pygments_lexer": "ipython3",
   "version": "3.6.6"
  },
  "toc": {
   "base_numbering": 1,
   "nav_menu": {},
   "number_sections": false,
   "sideBar": false,
   "skip_h1_title": false,
   "title_cell": "Table of Contents",
   "title_sidebar": "Contents",
   "toc_cell": false,
   "toc_position": {},
   "toc_section_display": false,
   "toc_window_display": false
  }
 },
 "nbformat": 4,
 "nbformat_minor": 2
}
