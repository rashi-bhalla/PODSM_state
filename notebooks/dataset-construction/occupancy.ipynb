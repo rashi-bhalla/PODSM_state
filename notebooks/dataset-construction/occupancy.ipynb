{
 "cells": [
  {
   "cell_type": "code",
   "execution_count": null,
   "metadata": {},
   "outputs": [],
   "source": [
    "import os\n",
    "import pandas as pd"
   ]
  },
  {
   "cell_type": "code",
   "execution_count": null,
   "metadata": {},
   "outputs": [],
   "source": [
    "dataset_dir = '../datasets/occupancy'\n",
    "\n",
    "if not os.path.exists(dataset_dir):\n",
    "    os.makedirs(dataset_dir)"
   ]
  },
  {
   "cell_type": "code",
   "execution_count": null,
   "metadata": {},
   "outputs": [],
   "source": [
    "%%bash\n",
    "cd ../datasets/occupancy\n",
    "rm -f occupancy_data.zip\n",
    "wget https://archive.ics.uci.edu/ml/machine-learning-databases/00357/occupancy_data.zip\n",
    "unzip occupancy_data.zip"
   ]
  },
  {
   "cell_type": "code",
   "execution_count": null,
   "metadata": {},
   "outputs": [],
   "source": [
    "def read_df(filename):\n",
    "    return pd.read_csv(os.path.join(dataset_dir, filename), dtype=str)\n",
    "\n",
    "dataframes = [ read_df(filename) for filename in ['datatraining.txt', 'datatest.txt', 'datatest2.txt'] ]\n",
    "df = pd.concat(dataframes).reset_index(drop=True)"
   ]
  },
  {
   "cell_type": "code",
   "execution_count": null,
   "metadata": {},
   "outputs": [],
   "source": [
    "columns = [\n",
    "    # 'date', # Not relevant for prediction\n",
    "    'Temperature',\n",
    "    'Humidity',\n",
    "    # 'Light', # Highly correlated with class\n",
    "    'CO2',\n",
    "    # 'HumidityRatio', # Derived from Temperature and Humidity\n",
    "    'Occupancy',\n",
    "]\n",
    "df = df[columns]"
   ]
  },
  {
   "cell_type": "code",
   "execution_count": null,
   "metadata": {},
   "outputs": [],
   "source": [
    "row_count = df.shape[0]\n",
    "shuffled_df = df.sample(frac=1, replace=False, random_state=row_count)"
   ]
  },
  {
   "cell_type": "code",
   "execution_count": null,
   "metadata": {},
   "outputs": [],
   "source": [
    "shuffled_df.to_csv(os.path.join(dataset_dir, 'occupancy-shuffled.csv'), index=False)"
   ]
  }
 ],
 "metadata": {
  "kernelspec": {
   "display_name": "Python 3",
   "language": "python",
   "name": "python3"
  },
  "language_info": {
   "codemirror_mode": {
    "name": "ipython",
    "version": 3
   },
   "file_extension": ".py",
   "mimetype": "text/x-python",
   "name": "python",
   "nbconvert_exporter": "python",
   "pygments_lexer": "ipython3",
   "version": "3.6.6"
  },
  "toc": {
   "base_numbering": 1,
   "nav_menu": {},
   "number_sections": false,
   "sideBar": false,
   "skip_h1_title": false,
   "title_cell": "Table of Contents",
   "title_sidebar": "Contents",
   "toc_cell": false,
   "toc_position": {},
   "toc_section_display": false,
   "toc_window_display": false
  }
 },
 "nbformat": 4,
 "nbformat_minor": 2
}
