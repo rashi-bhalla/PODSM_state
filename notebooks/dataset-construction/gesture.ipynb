{
 "cells": [
  {
   "cell_type": "code",
   "execution_count": null,
   "metadata": {},
   "outputs": [],
   "source": [
    "import os\n",
    "import pandas as pd\n"
   ]
  },
  {
   "cell_type": "code",
   "execution_count": null,
   "metadata": {},
   "outputs": [],
   "source": [
    "dataset_dir = '../datasets/gesture_master'\n",
    "\n",
    "if not os.path.exists(dataset_dir):\n",
    "    os.makedirs(dataset_dir)\n"
   ]
  },
  {
   "cell_type": "code",
   "execution_count": null,
   "metadata": {},
   "outputs": [],
   "source": [
    "%%bash\n",
    "cd ../datasets/gesture_master\n",
    "rm -f PARKINSON_HW.zip\n",
    "wget https://archive.ics.uci.edu/ml/machine-learning-databases/00481/EMG_data_for_gestures-master.zip\n",
    "unzip EMG_data_for_gestures-master.zip\n",
    "\n"
   ]
  },
  {
   "cell_type": "code",
   "execution_count": null,
   "metadata": {},
   "outputs": [],
   "source": [
    "dataset_files = os.path.join(dataset_dir,\"EMG_data_for_gestures-master\",\"01\", '1_raw_data_13-12_22.03.16.txt')\n",
    "columns = ['channel1','channel2', 'channel3', 'channel4', 'channel5','channel6','channel7','channel8','class']\n",
    "def load_df(file):\n",
    "    rows = []\n",
    "    with open(file) as f:\n",
    "        next (f)\n",
    "        for line in f.readlines():\n",
    "            # Remove \\n\n",
    "            \n",
    "           # print (\"hello\")\n",
    "            # line = line[:-2]\n",
    "            #print (line)\n",
    "            values = line.split('\\t')\n",
    "            #print (values)\n",
    "            class_value = values[9]\n",
    "            #print(class_value)\n",
    "            c_v = class_value.split('\\n')[0]\n",
    "            #print (c_v)\n",
    "            feature_values = [values[v] for v in range (1,9) ]   #[ v.split(':')[1] for v in values[1:] ]\n",
    "            #print (feature_values + class_value)\n",
    "            rows.append(feature_values + [c_v])\n",
    "            \n",
    "    #print (rows)\n",
    "    return pd.DataFrame(rows, columns=columns, dtype=str)\n",
    "\n",
    "df = load_df(dataset_files)\n"
   ]
  },
  {
   "cell_type": "code",
   "execution_count": null,
   "metadata": {},
   "outputs": [],
   "source": [
    "row_count = df.shape[0]\n",
    "shuffled_df = df.sample(frac=1, replace=False, random_state=row_count)\n",
    "\n"
   ]
  },
  {
   "cell_type": "code",
   "execution_count": null,
   "metadata": {},
   "outputs": [],
   "source": [
    "shuffled_df.to_csv(os.path.join(dataset_dir, 'gesture-master.csv'), index=False)"
   ]
  },
  {
   "cell_type": "code",
   "execution_count": null,
   "metadata": {},
   "outputs": [],
   "source": []
  }
 ],
 "metadata": {
  "kernelspec": {
   "display_name": "Python 3",
   "language": "python",
   "name": "python3"
  },
  "language_info": {
   "codemirror_mode": {
    "name": "ipython",
    "version": 3
   },
   "file_extension": ".py",
   "mimetype": "text/x-python",
   "name": "python",
   "nbconvert_exporter": "python",
   "pygments_lexer": "ipython3",
   "version": "3.6.6"
  },
  "toc": {
   "base_numbering": 1,
   "nav_menu": {},
   "number_sections": false,
   "sideBar": false,
   "skip_h1_title": false,
   "title_cell": "Table of Contents",
   "title_sidebar": "Contents",
   "toc_cell": false,
   "toc_position": {},
   "toc_section_display": false,
   "toc_window_display": false
  }
 },
 "nbformat": 4,
 "nbformat_minor": 2
}
