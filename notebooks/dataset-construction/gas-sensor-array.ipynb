{
 "cells": [
  {
   "cell_type": "code",
   "execution_count": null,
   "metadata": {},
   "outputs": [],
   "source": [
    "import os\n",
    "import pandas as pd"
   ]
  },
  {
   "cell_type": "code",
   "execution_count": null,
   "metadata": {},
   "outputs": [],
   "source": [
    "dataset_dir = '../datasets/gas'\n",
    "\n",
    "if not os.path.exists(dataset_dir):\n",
    "    os.makedirs(dataset_dir)"
   ]
  },
  {
   "cell_type": "code",
   "execution_count": null,
   "metadata": {},
   "outputs": [],
   "source": [
    "%%bash\n",
    "cd ../datasets/gas\n",
    "rm -f Dataset.zip\n",
    "wget https://archive.ics.uci.edu/ml/machine-learning-databases/00224/Dataset.zip\n",
    "unzip Dataset.zip"
   ]
  },
  {
   "cell_type": "code",
   "execution_count": null,
   "metadata": {},
   "outputs": [],
   "source": [
    "dataset_files = [ os.path.join(dataset_dir, 'Dataset/batch{}.dat'.format(i)) for i in range(1,11) ]\n",
    "columns = [ 'f{}'.format(i) for i in range(1, 129) ] + [ 'class' ]\n",
    "\n",
    "def load_df(file):\n",
    "    rows = []\n",
    "    with open(file) as f:\n",
    "        for line in f.readlines():\n",
    "            # Remove \\n\n",
    "            line = line[:-2]\n",
    "            values = line.split(' ')\n",
    "            class_value = values[0]\n",
    "            feature_values = [ v.split(':')[1] for v in values[1:] ]\n",
    "            rows.append(feature_values + [class_value])\n",
    "    return pd.DataFrame(rows, columns=columns, dtype=str)\n",
    "\n",
    "batch_dfs = [ load_df(file) for file in dataset_files ]\n",
    "df = pd.concat(batch_dfs).reset_index(drop=True)"
   ]
  },
  {
   "cell_type": "code",
   "execution_count": null,
   "metadata": {},
   "outputs": [],
   "source": [
    "row_count = df.shape[0]\n",
    "shuffled_df = df.sample(frac=1, replace=False, random_state=row_count)"
   ]
  },
  {
   "cell_type": "code",
   "execution_count": null,
   "metadata": {},
   "outputs": [],
   "source": [
    "df.to_csv(os.path.join(dataset_dir, 'gas.csv'), index=False)\n",
    "shuffled_df.to_csv(os.path.join(dataset_dir, 'gas-shuffled.csv'), index=False)"
   ]
  },
  {
   "cell_type": "code",
   "execution_count": null,
   "metadata": {},
   "outputs": [],
   "source": []
  }
 ],
 "metadata": {
  "kernelspec": {
   "display_name": "Python 3",
   "language": "python",
   "name": "python3"
  },
  "language_info": {
   "codemirror_mode": {
    "name": "ipython",
    "version": 3
   },
   "file_extension": ".py",
   "mimetype": "text/x-python",
   "name": "python",
   "nbconvert_exporter": "python",
   "pygments_lexer": "ipython3",
   "version": "3.6.6"
  },
  "toc": {
   "base_numbering": 1,
   "nav_menu": {},
   "number_sections": false,
   "sideBar": false,
   "skip_h1_title": false,
   "title_cell": "Table of Contents",
   "title_sidebar": "Contents",
   "toc_cell": false,
   "toc_position": {},
   "toc_section_display": false,
   "toc_window_display": false
  }
 },
 "nbformat": 4,
 "nbformat_minor": 2
}
